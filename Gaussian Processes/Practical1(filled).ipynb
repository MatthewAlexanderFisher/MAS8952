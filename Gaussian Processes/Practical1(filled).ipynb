{
 "cells": [
  {
   "cell_type": "markdown",
   "source": [
    "# Computer Practical 1: Multivariate Normal Distribution\n",
    "\n",
    "In this first practical we will implement the Multivariate Normal Distribution (MVN).\n",
    "\n",
    "In order to do this, we require the following packages (use `install.packages()` if the packages are not available):"
   ],
   "metadata": {}
  },
  {
   "cell_type": "code",
   "execution_count": 196,
   "source": [
    "library(ggplot2)\n",
    "library(reshape2)\n",
    "\n",
    "options(repr.plot.width = 3, repr.plot.height = 2.5) \n"
   ],
   "outputs": [],
   "metadata": {}
  },
  {
   "cell_type": "markdown",
   "source": [
    "By \"implementing\" the Multivariate Normal Distribution, I mean completing the following tasks:\n",
    "\n",
    "1. Implement the density function of the MVN as an `R` function.\n",
    "2. Implement an `R` function that samples from an MVN.\n",
    "3. Implement an `R` function that computes the conditional MVN distribution.\n",
    "\n",
    "These functions will be the foundation for all our future implementations of Gaussian processes that we will write in the coming weeks.\n",
    "\n",
    "Before doing this, we will first go over a brief review of the syntax of `R`. Feel free to skip this section if you are comfortable with the basics."
   ],
   "metadata": {}
  },
  {
   "cell_type": "markdown",
   "source": [
    "## Review of `R`\n",
    "\n",
    "### Variables\n",
    "\n",
    "You can define `R` variables using either `<-` or `=`. For example:"
   ],
   "metadata": {}
  },
  {
   "cell_type": "code",
   "execution_count": null,
   "source": [
    "x = 2\n",
    "y <- 3"
   ],
   "outputs": [],
   "metadata": {}
  },
  {
   "cell_type": "markdown",
   "source": [
    "### Vectors and Matrices\n",
    "\n",
    "There are numerous ways to define a vector. For example:"
   ],
   "metadata": {}
  },
  {
   "cell_type": "code",
   "execution_count": null,
   "source": [
    "x = c(1,2,3,4) # c stands for concatenation\n",
    "y = seq(0, 10, length.out=11) # defines a sequence of 11 equidistant points from 0 to 10"
   ],
   "outputs": [],
   "metadata": {}
  },
  {
   "cell_type": "markdown",
   "source": [
    "Matrices will be used often in this course. There are numerous ways to define matrices. \n",
    "\n",
    "One of the easiest ways is to start with a vector and then turn it into a matrix:"
   ],
   "metadata": {}
  },
  {
   "cell_type": "code",
   "execution_count": 2,
   "source": [
    "vector = c(1,2,3,4,5,6)\n",
    "matrix = matrix(vector, nrow = 2, byrow = TRUE)\n",
    "matrix"
   ],
   "outputs": [
    {
     "output_type": "display_data",
     "data": {
      "text/html": [
       "<table class=\"dataframe\">\n",
       "<caption>A matrix: 2 × 3 of type dbl</caption>\n",
       "<tbody>\n",
       "\t<tr><td>1</td><td>2</td><td>3</td></tr>\n",
       "\t<tr><td>4</td><td>5</td><td>6</td></tr>\n",
       "</tbody>\n",
       "</table>\n"
      ],
      "text/latex": [
       "A matrix: 2 × 3 of type dbl\n",
       "\\begin{tabular}{lll}\n",
       "\t 1 & 2 & 3\\\\\n",
       "\t 4 & 5 & 6\\\\\n",
       "\\end{tabular}\n"
      ],
      "text/markdown": [
       "\n",
       "A matrix: 2 × 3 of type dbl\n",
       "\n",
       "| 1 | 2 | 3 |\n",
       "| 4 | 5 | 6 |\n",
       "\n"
      ],
      "text/plain": [
       "     [,1] [,2] [,3]\n",
       "[1,] 1    2    3   \n",
       "[2,] 4    5    6   "
      ]
     },
     "metadata": {}
    }
   ],
   "metadata": {}
  },
  {
   "cell_type": "code",
   "execution_count": 3,
   "source": [
    "matrix = matrix(vector, nrow = 2, byrow = FALSE)\n",
    "matrix"
   ],
   "outputs": [
    {
     "output_type": "display_data",
     "data": {
      "text/html": [
       "<table class=\"dataframe\">\n",
       "<caption>A matrix: 2 × 3 of type dbl</caption>\n",
       "<tbody>\n",
       "\t<tr><td>1</td><td>3</td><td>5</td></tr>\n",
       "\t<tr><td>2</td><td>4</td><td>6</td></tr>\n",
       "</tbody>\n",
       "</table>\n"
      ],
      "text/latex": [
       "A matrix: 2 × 3 of type dbl\n",
       "\\begin{tabular}{lll}\n",
       "\t 1 & 3 & 5\\\\\n",
       "\t 2 & 4 & 6\\\\\n",
       "\\end{tabular}\n"
      ],
      "text/markdown": [
       "\n",
       "A matrix: 2 × 3 of type dbl\n",
       "\n",
       "| 1 | 3 | 5 |\n",
       "| 2 | 4 | 6 |\n",
       "\n"
      ],
      "text/plain": [
       "     [,1] [,2] [,3]\n",
       "[1,] 1    3    5   \n",
       "[2,] 2    4    6   "
      ]
     },
     "metadata": {}
    }
   ],
   "metadata": {}
  },
  {
   "cell_type": "markdown",
   "source": [
    "You can also define matrices using ``rbind`` and ``cbind``. These functions bind vectors together either by row or column:"
   ],
   "metadata": {}
  },
  {
   "cell_type": "code",
   "execution_count": 3,
   "source": [
    "vec1 = c(1,2,3)\n",
    "vec2 = c(4,5,6)\n",
    "\n",
    "matrix = rbind(vec1, vec2)\n",
    "matrix"
   ],
   "outputs": [
    {
     "output_type": "display_data",
     "data": {
      "text/html": [
       "<table class=\"dataframe\">\n",
       "<caption>A matrix: 2 × 3 of type dbl</caption>\n",
       "<tbody>\n",
       "\t<tr><th scope=row>vec1</th><td>1</td><td>2</td><td>3</td></tr>\n",
       "\t<tr><th scope=row>vec2</th><td>4</td><td>5</td><td>6</td></tr>\n",
       "</tbody>\n",
       "</table>\n"
      ],
      "text/latex": [
       "A matrix: 2 × 3 of type dbl\n",
       "\\begin{tabular}{r|lll}\n",
       "\tvec1 & 1 & 2 & 3\\\\\n",
       "\tvec2 & 4 & 5 & 6\\\\\n",
       "\\end{tabular}\n"
      ],
      "text/markdown": [
       "\n",
       "A matrix: 2 × 3 of type dbl\n",
       "\n",
       "| vec1 | 1 | 2 | 3 |\n",
       "| vec2 | 4 | 5 | 6 |\n",
       "\n"
      ],
      "text/plain": [
       "     [,1] [,2] [,3]\n",
       "vec1 1    2    3   \n",
       "vec2 4    5    6   "
      ]
     },
     "metadata": {}
    }
   ],
   "metadata": {}
  },
  {
   "cell_type": "code",
   "execution_count": 4,
   "source": [
    "vec1 = c(1,2,3)\n",
    "vec2 = c(4,5,6)\n",
    "\n",
    "matrix = cbind(vec1, vec2)\n",
    "matrix"
   ],
   "outputs": [
    {
     "output_type": "display_data",
     "data": {
      "text/html": [
       "<table class=\"dataframe\">\n",
       "<caption>A matrix: 3 × 2 of type dbl</caption>\n",
       "<thead>\n",
       "\t<tr><th scope=col>vec1</th><th scope=col>vec2</th></tr>\n",
       "</thead>\n",
       "<tbody>\n",
       "\t<tr><td>1</td><td>4</td></tr>\n",
       "\t<tr><td>2</td><td>5</td></tr>\n",
       "\t<tr><td>3</td><td>6</td></tr>\n",
       "</tbody>\n",
       "</table>\n"
      ],
      "text/latex": [
       "A matrix: 3 × 2 of type dbl\n",
       "\\begin{tabular}{ll}\n",
       " vec1 & vec2\\\\\n",
       "\\hline\n",
       "\t 1 & 4\\\\\n",
       "\t 2 & 5\\\\\n",
       "\t 3 & 6\\\\\n",
       "\\end{tabular}\n"
      ],
      "text/markdown": [
       "\n",
       "A matrix: 3 × 2 of type dbl\n",
       "\n",
       "| vec1 | vec2 |\n",
       "|---|---|\n",
       "| 1 | 4 |\n",
       "| 2 | 5 |\n",
       "| 3 | 6 |\n",
       "\n"
      ],
      "text/plain": [
       "     vec1 vec2\n",
       "[1,] 1    4   \n",
       "[2,] 2    5   \n",
       "[3,] 3    6   "
      ]
     },
     "metadata": {}
    }
   ],
   "metadata": {}
  },
  {
   "cell_type": "markdown",
   "source": [
    "### `R` functions\n",
    "\n",
    "To define an `R` function we use the keywork `function` followed by defining the variables (e.g. `function(x)`) used in the function and then we enclose the logic of the function in curly braces `{}`. We use the `return` function if we want to return a value from the function.\n",
    "\n",
    "For example:"
   ],
   "metadata": {}
  },
  {
   "cell_type": "code",
   "execution_count": 4,
   "source": [
    "func = function(x) {\n",
    "    return(x ** 2)\n",
    "}\n",
    "\n",
    "func(3)"
   ],
   "outputs": [
    {
     "output_type": "display_data",
     "data": {
      "text/html": [
       "9"
      ],
      "text/latex": [
       "9"
      ],
      "text/markdown": [
       "9"
      ],
      "text/plain": [
       "[1] 9"
      ]
     },
     "metadata": {}
    }
   ],
   "metadata": {}
  },
  {
   "cell_type": "markdown",
   "source": [
    "If our `R` function involves certain operations (e.g. arithmetic, math functions, logical operations) then the function will typically be *vectorisable*. This means the function will automatically apply to each element of a vector or matrix. For example `func` vectorises:"
   ],
   "metadata": {}
  },
  {
   "cell_type": "code",
   "execution_count": 5,
   "source": [
    "func(c(1,2,3))"
   ],
   "outputs": [
    {
     "output_type": "display_data",
     "data": {
      "text/html": [
       "<style>\n",
       ".list-inline {list-style: none; margin:0; padding: 0}\n",
       ".list-inline>li {display: inline-block}\n",
       ".list-inline>li:not(:last-child)::after {content: \"\\00b7\"; padding: 0 .5ex}\n",
       "</style>\n",
       "<ol class=list-inline><li>1</li><li>4</li><li>9</li></ol>\n"
      ],
      "text/latex": [
       "\\begin{enumerate*}\n",
       "\\item 1\n",
       "\\item 4\n",
       "\\item 9\n",
       "\\end{enumerate*}\n"
      ],
      "text/markdown": [
       "1. 1\n",
       "2. 4\n",
       "3. 9\n",
       "\n",
       "\n"
      ],
      "text/plain": [
       "[1] 1 4 9"
      ]
     },
     "metadata": {}
    }
   ],
   "metadata": {}
  },
  {
   "cell_type": "markdown",
   "source": [
    "Vectorisation is useful since it speeds up operations and we don't have to use for-loops.\n",
    "\n",
    "We can create functions with multiple arguments in the obvious way:"
   ],
   "metadata": {}
  },
  {
   "cell_type": "code",
   "execution_count": 7,
   "source": [
    "func1 = function(x, y) {\n",
    "    return(x ** 2 + y ** 2)\n",
    "}\n",
    "\n",
    "func1(1,4)"
   ],
   "outputs": [
    {
     "output_type": "display_data",
     "data": {
      "text/html": [
       "17"
      ],
      "text/latex": [
       "17"
      ],
      "text/markdown": [
       "17"
      ],
      "text/plain": [
       "[1] 17"
      ]
     },
     "metadata": {}
    }
   ],
   "metadata": {}
  },
  {
   "cell_type": "markdown",
   "source": [
    "We can also create functions with default arguments. This means if no argument is provided, the function will automatically use the provided default value. "
   ],
   "metadata": {}
  },
  {
   "cell_type": "code",
   "execution_count": 8,
   "source": [
    "func2 = function(x, y=2) {\n",
    "    return(x + y)\n",
    "}\n",
    "\n",
    "func2(1)"
   ],
   "outputs": [
    {
     "output_type": "display_data",
     "data": {
      "text/html": [
       "3"
      ],
      "text/latex": [
       "3"
      ],
      "text/markdown": [
       "3"
      ],
      "text/plain": [
       "[1] 3"
      ]
     },
     "metadata": {}
    }
   ],
   "metadata": {}
  },
  {
   "cell_type": "markdown",
   "source": [
    "### Loops\n",
    "\n",
    "There are two types of loops in ``R``:\n",
    "\n",
    "1. For loops: loops through each element of a vector or list\n",
    "2. While loops: loops until condition becomes ``FALSE``\n",
    "\n",
    "The syntax is as follows:"
   ],
   "metadata": {}
  },
  {
   "cell_type": "code",
   "execution_count": 2,
   "source": [
    "fruits = list(\"apple\", \"banana\", \"cherry\") \n",
    "\n",
    "for (x in fruits) {\n",
    "  print(x)\n",
    "}"
   ],
   "outputs": [
    {
     "output_type": "stream",
     "name": "stdout",
     "text": [
      "[1] \"apple\"\n",
      "[1] \"banana\"\n",
      "[1] \"cherry\"\n"
     ]
    }
   ],
   "metadata": {}
  },
  {
   "cell_type": "markdown",
   "source": [
    "While loops are potentially dangerous because they may not terminate e.g. ``while(TRUE)`` would loop for ever."
   ],
   "metadata": {}
  },
  {
   "cell_type": "code",
   "execution_count": 5,
   "source": [
    "i = 1\n",
    "while (i < 6) {\n",
    "    print(i)\n",
    "    i = i+1\n",
    "}"
   ],
   "outputs": [
    {
     "output_type": "stream",
     "name": "stdout",
     "text": [
      "[1] 1\n",
      "[1] 2\n",
      "[1] 3\n",
      "[1] 4\n",
      "[1] 5\n"
     ]
    }
   ],
   "metadata": {}
  },
  {
   "cell_type": "markdown",
   "source": [
    "### Using `ggplot` \n",
    "\n",
    "All of the plotting in this course will use the library `ggplot`. This is because it looks nicer and offers greater flexibility than the built-in plotting library of `R`.\n",
    "\n",
    "If you are unfamiliar with `ggplot` then feel free to use the base plotting functionalities of `R`. However, many examples of `ggplot` will be provided and you hopefully will be able to adapt them to your own needs."
   ],
   "metadata": {}
  },
  {
   "cell_type": "markdown",
   "source": [
    "## Task 1: Multivariate Normal Density\n",
    "\n",
    "The first task is to implement an `R` function which computes the density function of an MVN. \n",
    "\n",
    "Recall from the notes that the density of a MVN distributed random variable $\\underline{X} \\sim \\mathcal{N}(\\underline{\\mu}, \\mathrm{K})$ with mean vector $\\underline{\\mu}$ and covariance matrix $\\mathrm{K}$ is:\n",
    "\n",
    "$$ p_{\\underline{X}}(\\underline{x}; \\underline{\\mu}, \\mathrm{K}) =  \\frac{1}{\\sqrt{|\\mathrm{K}|}}(2\\pi)^{-n/2} \\exp\\left(-\\frac{1}{2} (\\underline{x} -\\underline{\\mu})^\\top \\mathrm{K}^{-1} (\\underline{x}-\\underline{\\mu})\\right).$$\n",
    "\n",
    "Here, $n$ is the dimension of random variable.\n",
    "\n",
    "We always implement log-densities instead:\n",
    "\n",
    "$$ \\log p_{\\underline{X}}(\\underline{x}; \\underline{\\mu}, \\mathrm{K}) =  -\\frac{1}{2}\\log|\\mathrm{K}|-\\frac{n}{2}\\log(2\\pi)-\\frac{1}{2} (\\underline{x} -\\underline{\\mu})^\\top \\mathrm{K}^{-1} (\\underline{x}-\\underline{\\mu}).$$\n",
    "\n",
    "#### Task: Implement a function that computes the log-density of a MVN.\n",
    "\n",
    "The following functions may be useful (depending on how you approach it):\n",
    "\n",
    "1. ``det()`` - computes the determinant of a matrix\n",
    "2. ``solve()`` - computes the inverse of a matrix\n",
    "3. ``%*%`` - multiplies two matrices together (e.g  ``A %*% B``)\n",
    "4. ``t()`` - computes the transpose of a matrix"
   ],
   "metadata": {}
  },
  {
   "cell_type": "code",
   "execution_count": 100,
   "source": [
    "dmvnorm = function(x, mean, covariance) {\n",
    "    log_det_cov = log(det(covariance))\n",
    "    inv_cov = solve(covariance)\n",
    "    n = length(mean)\n",
    "    quad_form = (x - mean) %*% inv_cov %*% (x-mean)\n",
    "\n",
    "    return(-0.5 * log_det_cov - 0.5 * n * log(2 * pi) - 0.5 * quad_form)\n",
    "}\n",
    "\n",
    "\n",
    "# the following function is much faster than using apply on the above function\n",
    "# this will be the mvn density function that we will use throughout the practicals\n",
    "\n",
    "dmvn = function(x, mean, covariance) { \n",
    "    if (is.vector(x)) {\n",
    "        x = matrix(x, ncol = length(x))\n",
    "    }\n",
    "    n = ncol(x)\n",
    "\n",
    "    cholesky = chol(covariance)\n",
    "    solved_cholesky = backsolve(cholesky, t(x) - mean, transpose = TRUE)\n",
    "    quad_form = colSums(solved_cholesky ** 2)\n",
    "    output = -sum(log(diag(cholesky))) - 0.5 * n * log(2 * pi) - 0.5 * quad_form\n",
    "    names(output) = rownames(x)\n",
    "    return(output)\n",
    "}"
   ],
   "outputs": [],
   "metadata": {}
  },
  {
   "cell_type": "markdown",
   "source": [
    "If your code is working correctly, it should output the following:"
   ],
   "metadata": {}
  },
  {
   "cell_type": "code",
   "execution_count": 191,
   "source": [
    "dmvn(c(1,2), mean=c(1,4), covariance = rbind(c(3,1),c(1,3)))"
   ],
   "outputs": [
    {
     "output_type": "display_data",
     "data": {
      "text/html": [
       "<table class=\"dataframe\">\n",
       "<caption>A matrix: 1 × 1 of type dbl</caption>\n",
       "<tbody>\n",
       "\t<tr><td>-3.627598</td></tr>\n",
       "</tbody>\n",
       "</table>\n"
      ],
      "text/latex": [
       "A matrix: 1 × 1 of type dbl\n",
       "\\begin{tabular}{l}\n",
       "\t -3.627598\\\\\n",
       "\\end{tabular}\n"
      ],
      "text/markdown": [
       "\n",
       "A matrix: 1 × 1 of type dbl\n",
       "\n",
       "| -3.627598 |\n",
       "\n"
      ],
      "text/plain": [
       "     [,1]     \n",
       "[1,] -3.627598"
      ]
     },
     "metadata": {}
    }
   ],
   "metadata": {}
  },
  {
   "cell_type": "markdown",
   "source": [
    "In order to vectorise your code, you may want to use ``apply``.\n",
    "\n",
    "This allows you to compute multiple density evaluations in one call."
   ],
   "metadata": {}
  },
  {
   "cell_type": "code",
   "execution_count": 193,
   "source": [
    "x_matrix = rbind(c(1,2), c(2,5), c(5,6))\n",
    "\n",
    "apply(x_matrix, 1, dmvn, mean=c(1,4), covariance = rbind(c(3,1),c(1,3)))"
   ],
   "outputs": [
    {
     "output_type": "display_data",
     "data": {
      "text/html": [
       "<style>\n",
       ".list-inline {list-style: none; margin:0; padding: 0}\n",
       ".list-inline>li {display: inline-block}\n",
       ".list-inline>li:not(:last-child)::after {content: \"\\00b7\"; padding: 0 .5ex}\n",
       "</style>\n",
       "<ol class=list-inline><li>-3.62759783724926</li><li>-3.12759783724926</li><li>-5.62759783724926</li></ol>\n"
      ],
      "text/latex": [
       "\\begin{enumerate*}\n",
       "\\item -3.62759783724926\n",
       "\\item -3.12759783724926\n",
       "\\item -5.62759783724926\n",
       "\\end{enumerate*}\n"
      ],
      "text/markdown": [
       "1. -3.62759783724926\n",
       "2. -3.12759783724926\n",
       "3. -5.62759783724926\n",
       "\n",
       "\n"
      ],
      "text/plain": [
       "[1] -3.627598 -3.127598 -5.627598"
      ]
     },
     "metadata": {}
    }
   ],
   "metadata": {}
  },
  {
   "cell_type": "markdown",
   "source": [
    "## Task 2: Sampling from the MVN\n",
    "\n",
    "The second task is to implement an `R` function which samples from the MVN with given mean vector $\\underline{\\mu}$ and covariance matrix $\\mathrm{K}$.\n",
    "\n",
    "This will happen in two steps:\n",
    "\n",
    "1. Sample from the standard multivariate normal distribution. $$\\underline{Z}\\sim\\mathcal{N}(\\underline{0}, I_n). $$\n",
    "2. Sample from the MVN with mean vector $\\underline{\\mu}$ and covariance matrix $\\mathrm{K}$ using the affine transformation: $$ \\underline{X} =  \\mathrm{A} \\underline{Z} + \\underline{\\mu}.$$ Here, $\\mathrm{A}$ is a matrix satisfying $\\mathrm{A}\\mathrm{A}^\\top = \\mathrm{K}$.\n",
    "\n",
    "#### Task: Implement a function that samples from a MVN \n",
    "\n",
    "The following functions will be useful (depending on your approach):\n",
    "\n",
    "1. `chol()` - computes the Cholesky decomposition of a covariance matrix $\\mathrm{K} = \\mathrm{B}\\mathrm{B}^\\top$. Returns $\\mathrm{B}^\\top$.\n",
    "2. `%*%` - matrix multiplication\n",
    "3. `rmvn()` - samples from $\\mathcal{N}(0,1)$ distribution"
   ],
   "metadata": {}
  },
  {
   "cell_type": "code",
   "execution_count": 84,
   "source": [
    "rmvn = function(N, mean, covariance) {\n",
    "    # N is number of samples to compute\n",
    "    # mean is mean vector\n",
    "    # covariance is covariance matrix\n",
    "\n",
    "    n = length(mean) #dimension of random vector\n",
    "\n",
    "    standard_normal_sample = rnorm(n * N)\n",
    "    standard_mvn_sample = matrix(standard_normal_sample, nrow = N)\n",
    "\n",
    "    cholesky = chol(covariance)\n",
    "\n",
    "    output = t(cholesky) %*% t(standard_mvn_sample) + mean\n",
    "\n",
    "    return(t(output))\n",
    "\n",
    "}"
   ],
   "outputs": [],
   "metadata": {}
  },
  {
   "cell_type": "markdown",
   "source": [
    "If your code is working, the following code should produce a similar plot:"
   ],
   "metadata": {}
  },
  {
   "cell_type": "code",
   "execution_count": 126,
   "source": [
    "sample = rmvn(900, c(10,2), rbind(c(3,2.5),c(2.5,3)))\n",
    "\n",
    "data = data.frame(sample)\n",
    "\n",
    "ggplot(data, aes(x=X1, y=X2)) + geom_point(col='#ff523be8', alpha=0.6) +\n",
    "                theme_bw()\n"
   ],
   "outputs": [
    {
     "output_type": "display_data",
     "data": {
      "image/png": "[encoded data removed]",
      "text/plain": [
       "plot without title"
      ]
     },
     "metadata": {
      "image/png": {
       "width": 180,
       "height": 150
      }
     }
    }
   ],
   "metadata": {}
  },
  {
   "cell_type": "markdown",
   "source": [
    "In higher dimensions:"
   ],
   "metadata": {}
  },
  {
   "cell_type": "code",
   "execution_count": 145,
   "source": [
    "A = matrix(rnorm(36), nrow=6)\n",
    "K = A %*% t(A) # I am randomly generating a covariance matrix here...\n",
    "\n",
    "mu = c(3,4,10,0,0,0)\n",
    "\n",
    "sample = rmvn(5, mu, K)\n",
    "\n",
    "index = c(1,2,3,4,5,6)\n",
    "label = c(expression(X[1]),expression(X[2]),expression(X[3]), expression(X[4]),expression(X[5]),expression(X[6]))\n",
    "\n",
    "gp_samples_df <- melt(data.frame(index, t(sample)), id = \"index\")\n",
    "\n",
    "gp_sample_plot <- ggplot(gp_samples_df) +\n",
    "                geom_line(aes(x = index, y = value, group = variable, color=variable), show.legend = FALSE) +\n",
    "                geom_point(aes(x = index, y = value, group = variable, color=variable),show.legend = FALSE) + \n",
    "                theme_bw() + scale_x_continuous(breaks=seq(1,6,1), labels= label)\n",
    "\n",
    "gp_sample_plot\n"
   ],
   "outputs": [
    {
     "output_type": "display_data",
     "data": {
      "image/png": "[encoded data removed]",
      "text/plain": [
       "plot without title"
      ]
     },
     "metadata": {
      "image/png": {
       "width": 180,
       "height": 150
      }
     }
    }
   ],
   "metadata": {}
  },
  {
   "cell_type": "markdown",
   "source": [
    "## Task 3: Conditional Distribution\n",
    "\n",
    "Our final task is to implement the conditional distribution:\n",
    "\n",
    "Let $\\underline{X} \\sim \\mathcal{N}(\\underline{\\mu}, \\mathrm{K})$.  Suppose we partition $\\underline{X}$ into\n",
    "$$    \\underline{X} = \\begin{pmatrix} \\underline{X}_1 \\\\ \\underline{X}_2 \\end{pmatrix}.$$\n",
    "Let $\\underline{\\mu}_1 = \\text{E}[\\underline{X}_1]$, $\\underline{\\mu}_2 = \\text{E}[\\underline{X}_2]$, $\\mathrm{K}_{11} = \\text{Cov}[\\underline{X}_1,\\underline{X}_1]$, $\\mathrm{K}_{12} = \\text{Cov}[\\underline{X}_1,\\underline{X}_2]$, $\\mathrm{K}_{21} = \\text{Cov}[\\underline{X}_2,\\underline{X}_1]$ and $\\mathrm{K}_{22} = \\text{Cov}[\\underline{X}_2,\\underline{X}_2]$. Then,\n",
    "$$\n",
    "    \\underline{X}_1 \\,|\\, \\underline{X}_2 = \\underline{a} \\sim \\mathcal{N}(\\underline{\\tilde{\\mu}}, \\tilde{\\mathrm{K}}),\n",
    "$$\n",
    "where\n",
    "$$ \\underline{\\tilde{\\mu}} = \\underline{\\mu_1} + \\mathrm{K}_{12} \\mathrm{K}_{22}^{-1} (\\underline{a} - \\underline{\\mu_2}), $$\n",
    "$$ \\tilde{\\mathrm{K}} = \\mathrm{K}_{11} - \\mathrm{K}_{12} \\mathrm{K}_{22}^{-1}\\mathrm{K}_{21} .$$\n",
    "\n",
    "#### Task: Implement a function that returns the posterior mean and covariance matrix $\\underline{\\tilde{\\mu}}$ and $\\tilde{\\mathrm{K}}$.\n",
    "\n",
    "The following functions may be useful:\n",
    "\n",
    "1. ``solve()`` - computes the inverse of a matrix\n",
    "2. ``%*%`` - multiplies two matrices together (e.g  ``A %*% B``)\n",
    "3. ``t()`` - computes the transpose of a matrix\n"
   ],
   "metadata": {}
  },
  {
   "cell_type": "code",
   "execution_count": 214,
   "source": [
    "condmvn = function(a, mu1, mu2, K11, K12, K22) {\n",
    "    # a is vector we are conditioning upon\n",
    "    # mu1 is the mean of X_1\n",
    "    # mu2 is the mean of X_2\n",
    "    # K11 is covariance matrix of X_1\n",
    "    # K12 is cross-covariance matrix of X1 and X2\n",
    "    # K22 is covariance matrix of X_2\n",
    "\n",
    "    inv_K22 = solve(K22)\n",
    "\n",
    "    tilde_mu = mu1 + K12 %*% inv_K22 %*% (a - mu2)\n",
    "    tilde_K = K11 - K12 %*% inv_K22 %*% t(K12)\n",
    "\n",
    "    output = list('cond_mean' = as.vector(tilde_mu), 'cond_covariance' = tilde_K)\n",
    "\n",
    "    return(output)\n",
    "}"
   ],
   "outputs": [],
   "metadata": {}
  },
  {
   "cell_type": "markdown",
   "source": [
    "If your code is working, your output should look like:"
   ],
   "metadata": {}
  },
  {
   "cell_type": "code",
   "execution_count": 295,
   "source": [
    "a = c(1,2) \n",
    "mu1 = c(5,-2)\n",
    "mu2 = c(0,0)\n",
    "\n",
    "set.seed(124) # fixing random seed so rnorm will sample same values\n",
    "A = matrix(rnorm(16, sd = 1), nrow=4)\n",
    "K = A %*% t(A) \n",
    "\n",
    "K11 = K[1:2,1:2]\n",
    "K12 = K[1:2,3:4]\n",
    "K22 = K[3:4,3:4]\n",
    "\n",
    "condmvn(a, mu1, mu2, K11, K12, K22)\n"
   ],
   "outputs": [
    {
     "output_type": "display_data",
     "data": {
      "text/html": [
       "<dl>\n",
       "\t<dt>$cond_mean</dt>\n",
       "\t\t<dd><style>\n",
       ".list-inline {list-style: none; margin:0; padding: 0}\n",
       ".list-inline>li {display: inline-block}\n",
       ".list-inline>li:not(:last-child)::after {content: \"\\00b7\"; padding: 0 .5ex}\n",
       "</style>\n",
       "<ol class=list-inline><li>4.93108253319677</li><li>-1.82237602679824</li></ol>\n",
       "</dd>\n",
       "\t<dt>$cond_covariance</dt>\n",
       "\t\t<dd><table class=\"dataframe\">\n",
       "<caption>A matrix: 2 × 2 of type dbl</caption>\n",
       "<tbody>\n",
       "\t<tr><td> 2.100552</td><td>-1.155652</td></tr>\n",
       "\t<tr><td>-1.155652</td><td> 1.024107</td></tr>\n",
       "</tbody>\n",
       "</table>\n",
       "</dd>\n",
       "</dl>\n"
      ],
      "text/latex": [
       "\\begin{description}\n",
       "\\item[\\$cond\\_mean] \\begin{enumerate*}\n",
       "\\item 4.93108253319677\n",
       "\\item -1.82237602679824\n",
       "\\end{enumerate*}\n",
       "\n",
       "\\item[\\$cond\\_covariance] A matrix: 2 × 2 of type dbl\n",
       "\\begin{tabular}{ll}\n",
       "\t  2.100552 & -1.155652\\\\\n",
       "\t -1.155652 &  1.024107\\\\\n",
       "\\end{tabular}\n",
       "\n",
       "\\end{description}\n"
      ],
      "text/markdown": [
       "$cond_mean\n",
       ":   1. 4.93108253319677\n",
       "2. -1.82237602679824\n",
       "\n",
       "\n",
       "\n",
       "$cond_covariance\n",
       ":   \n",
       "A matrix: 2 × 2 of type dbl\n",
       "\n",
       "|  2.100552 | -1.155652 |\n",
       "| -1.155652 |  1.024107 |\n",
       "\n",
       "\n",
       "\n",
       "\n"
      ],
      "text/plain": [
       "$cond_mean\n",
       "[1]  4.931083 -1.822376\n",
       "\n",
       "$cond_covariance\n",
       "          [,1]      [,2]\n",
       "[1,]  2.100552 -1.155652\n",
       "[2,] -1.155652  1.024107\n"
      ]
     },
     "metadata": {}
    }
   ],
   "metadata": {}
  },
  {
   "cell_type": "markdown",
   "source": [
    "The above code computed the conditional distribution:\n",
    "\n",
    "$$ (X_1, X_2)^\\top | X_3 = 1, X_4 = 2.$$"
   ],
   "metadata": {}
  },
  {
   "cell_type": "markdown",
   "source": [
    "We can visualise this as follows:"
   ],
   "metadata": {}
  },
  {
   "cell_type": "code",
   "execution_count": 296,
   "source": [
    "cond_output = condmvn(a, mu1, mu2, K11, K12, K22) # this is a list\n",
    "\n",
    "cond_mean = cond_output$cond_mean \n",
    "cond_covariance = cond_output$cond_covariance\n",
    "\n",
    "N = 15 # number of samples\n",
    "sample = cbind( rmvn(N, cond_mean, cond_covariance),t(replicate(N,a)))\n",
    "\n",
    "index = c(1,2,3,4)\n",
    "label = c(expression(X[1]),expression(X[2]),expression(X[3]), expression(X[4]))\n",
    "\n",
    "gp_samples_df <- melt(data.frame(index, t(sample)), id = \"index\")\n",
    "\n",
    "gp_sample_plot <- ggplot(gp_samples_df) +\n",
    "                geom_line(aes(x = index, y = value, group = variable, color=variable), show.legend = FALSE) +\n",
    "                geom_point(aes(x = index, y = value, group = variable, color=variable),show.legend = FALSE) + \n",
    "                theme_bw() + scale_x_continuous(breaks=seq(1,4,1), labels= label)\n",
    "\n",
    "gp_sample_plot\n"
   ],
   "outputs": [
    {
     "output_type": "display_data",
     "data": {
      "image/png": "[encoded data removed]",
      "text/plain": [
       "plot without title"
      ]
     },
     "metadata": {
      "image/png": {
       "width": 180,
       "height": 150
      }
     }
    }
   ],
   "metadata": {}
  }
 ],
 "metadata": {
  "orig_nbformat": 4,
  "language_info": {
   "name": "R",
   "codemirror_mode": "r",
   "pygments_lexer": "r",
   "mimetype": "text/x-r-source",
   "file_extension": ".r",
   "version": "4.1.2"
  },
  "kernelspec": {
   "name": "ir",
   "display_name": "R",
   "language": "R"
  }
 },
 "nbformat": 4,
 "nbformat_minor": 2
}